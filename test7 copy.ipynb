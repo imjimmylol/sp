{
 "cells": [
  {
   "cell_type": "code",
   "execution_count": 1,
   "metadata": {},
   "outputs": [],
   "source": [
    "import pandas as pd\n",
    "import numpy as np"
   ]
  },
  {
   "cell_type": "code",
   "execution_count": 2,
   "metadata": {},
   "outputs": [],
   "source": [
    "def Monte_GBM(S,v,mu,n,T, nstep=5):\n",
    "    dt = T/nstep\n",
    "    e = np.random.normal(loc=0.0, scale=1.0, size=(n,nstep))\n",
    "    S_T = S*np.exp((mu - v ** 2 / 2) * dt + v * np.sqrt(dt) * e).cumprod(axis=1)\n",
    "    return [np.mean(S_T[:,i]) for i in range(nstep)]"
   ]
  },
  {
   "cell_type": "code",
   "execution_count": 3,
   "metadata": {},
   "outputs": [],
   "source": [
    "import yfinance as yf\n",
    "from tqdm import tqdm\n",
    "\n",
    "def fetch_stock_price(stock_symbol, start_date, end_date):\n",
    "    # 使用 yf.Ticker() 建立 Ticker 對象\n",
    "    stock = yf.Ticker(stock_symbol)\n",
    "\n",
    "    # 使用 history() 方法取得歷史價格資訊\n",
    "    stock_data = stock.history(start=start_date, end=end_date)\n",
    "\n",
    "    return stock_data\n",
    "\n",
    "stock_symbol = '2330.TW'\n",
    "\n",
    "# 起始日期和結束日期\n",
    "end_date = '2024-12-31'\n",
    "\n",
    "# 擷取股票價格資訊\n",
    "df = fetch_stock_price(stock_symbol=stock_symbol, start_date='2012-01-02',end_date=end_date)\n"
   ]
  },
  {
   "cell_type": "code",
   "execution_count": 4,
   "metadata": {},
   "outputs": [],
   "source": [
    "df['ret'] = df['Close'].pct_change()\n",
    "df = df.dropna()"
   ]
  },
  {
   "cell_type": "code",
   "execution_count": 17,
   "metadata": {},
   "outputs": [
    {
     "data": {
      "text/plain": [
       "'2013-04-12 00:00:00+08:00'"
      ]
     },
     "execution_count": 17,
     "metadata": {},
     "output_type": "execute_result"
    }
   ],
   "source": [
    "str(df.iloc[0:0+250+60][-60:].index[-1])"
   ]
  },
  {
   "cell_type": "code",
   "execution_count": 31,
   "metadata": {},
   "outputs": [
    {
     "name": "stderr",
     "output_type": "stream",
     "text": [
      "  0%|          | 0/2704 [00:00<?, ?it/s]"
     ]
    },
    {
     "name": "stderr",
     "output_type": "stream",
     "text": [
      "100%|██████████| 2704/2704 [03:14<00:00, 13.92it/s]\n"
     ]
    }
   ],
   "source": [
    "Estimation_window = 250\n",
    "step_forward = 60\n",
    "\n",
    "total = 0\n",
    "act = 0\n",
    "\n",
    "date_li = []\n",
    "res_li = []\n",
    "\n",
    "for i in tqdm(range(len(df)-Estimation_window+1)):\n",
    "# for i in range(5):\n",
    "    total+=1\n",
    "    df_estimation = df.iloc[i:i+Estimation_window]\n",
    "    # drift = np.log(df_estimation['ret']).mean()\n",
    "    # vol = np.log(df_estimation['ret']).std()\n",
    "\n",
    "    drift = df_estimation['ret'].mean()\n",
    "    vol = df_estimation['ret'].std()\n",
    "    S_t = df_estimation['Close'][-1]\n",
    "\n",
    "    df_test = df.iloc[i:i+Estimation_window+step_forward]\n",
    "    S_tp1 = df_test['Close'][-step_forward:].mean()\n",
    "\n",
    "\n",
    "    # pred dir\n",
    "    pred = np.mean(Monte_GBM(S = S_t, v=vol, mu=drift, n=10000, T=1, nstep=step_forward))\n",
    "    dir_num = pred - S_t\n",
    "    dir_dummy = 1 if dir_num > 0 else -1\n",
    "\n",
    "    # act dir\n",
    "    dir_num_act = S_tp1 - S_t\n",
    "    dir_dummy_act = 1 if dir_num_act > 0 else -1\n",
    "\n",
    "    if dir_dummy-dir_dummy_act==0:\n",
    "        act+=1\n",
    "        date_li.append(df.iloc[i:i+Estimation_window+step_forward][-step_forward:].index[-1])\n",
    "        res_li.append(1)\n",
    "\n",
    "    if dir_dummy-dir_dummy_act!=0:\n",
    "        date_li.append(df.iloc[i:i+Estimation_window+step_forward][-step_forward:].index[-1])\n",
    "        res_li.append(-1)\n",
    "    # print(f'pred : {pred}, dir : {dir_dummy}')\n",
    "    # print(f'actual : {S_tp1}, dir : {dir_dummy_act}')\n",
    "    # print('===================')\n",
    "    # print()"
   ]
  },
  {
   "cell_type": "code",
   "execution_count": 33,
   "metadata": {},
   "outputs": [],
   "source": [
    "df_res = pd.DataFrame({\n",
    "    'd':date_li,\n",
    "    'result':res_li}\n",
    ")"
   ]
  },
  {
   "cell_type": "code",
   "execution_count": 69,
   "metadata": {},
   "outputs": [],
   "source": [
    "df_res['year'] = df_res['d'].dt.year\n",
    "df_res['m'] = df_res['d'].dt.month"
   ]
  },
  {
   "cell_type": "code",
   "execution_count": 59,
   "metadata": {},
   "outputs": [
    {
     "data": {
      "text/html": [
       "<div>\n",
       "<style scoped>\n",
       "    .dataframe tbody tr th:only-of-type {\n",
       "        vertical-align: middle;\n",
       "    }\n",
       "\n",
       "    .dataframe tbody tr th {\n",
       "        vertical-align: top;\n",
       "    }\n",
       "\n",
       "    .dataframe thead th {\n",
       "        text-align: right;\n",
       "    }\n",
       "</style>\n",
       "<table border=\"1\" class=\"dataframe\">\n",
       "  <thead>\n",
       "    <tr style=\"text-align: right;\">\n",
       "      <th></th>\n",
       "      <th>d</th>\n",
       "      <th>result</th>\n",
       "      <th>year</th>\n",
       "    </tr>\n",
       "  </thead>\n",
       "  <tbody>\n",
       "    <tr>\n",
       "      <th>0</th>\n",
       "      <td>2013-04-12 00:00:00+08:00</td>\n",
       "      <td>1</td>\n",
       "      <td>2013</td>\n",
       "    </tr>\n",
       "    <tr>\n",
       "      <th>1</th>\n",
       "      <td>2013-04-15 00:00:00+08:00</td>\n",
       "      <td>1</td>\n",
       "      <td>2013</td>\n",
       "    </tr>\n",
       "    <tr>\n",
       "      <th>2</th>\n",
       "      <td>2013-04-16 00:00:00+08:00</td>\n",
       "      <td>1</td>\n",
       "      <td>2013</td>\n",
       "    </tr>\n",
       "    <tr>\n",
       "      <th>3</th>\n",
       "      <td>2013-04-17 00:00:00+08:00</td>\n",
       "      <td>1</td>\n",
       "      <td>2013</td>\n",
       "    </tr>\n",
       "    <tr>\n",
       "      <th>4</th>\n",
       "      <td>2013-04-18 00:00:00+08:00</td>\n",
       "      <td>1</td>\n",
       "      <td>2013</td>\n",
       "    </tr>\n",
       "    <tr>\n",
       "      <th>...</th>\n",
       "      <td>...</td>\n",
       "      <td>...</td>\n",
       "      <td>...</td>\n",
       "    </tr>\n",
       "    <tr>\n",
       "      <th>2699</th>\n",
       "      <td>2024-01-31 00:00:00+08:00</td>\n",
       "      <td>-1</td>\n",
       "      <td>2024</td>\n",
       "    </tr>\n",
       "    <tr>\n",
       "      <th>2700</th>\n",
       "      <td>2024-01-31 00:00:00+08:00</td>\n",
       "      <td>-1</td>\n",
       "      <td>2024</td>\n",
       "    </tr>\n",
       "    <tr>\n",
       "      <th>2701</th>\n",
       "      <td>2024-01-31 00:00:00+08:00</td>\n",
       "      <td>-1</td>\n",
       "      <td>2024</td>\n",
       "    </tr>\n",
       "    <tr>\n",
       "      <th>2702</th>\n",
       "      <td>2024-01-31 00:00:00+08:00</td>\n",
       "      <td>-1</td>\n",
       "      <td>2024</td>\n",
       "    </tr>\n",
       "    <tr>\n",
       "      <th>2703</th>\n",
       "      <td>2024-01-31 00:00:00+08:00</td>\n",
       "      <td>-1</td>\n",
       "      <td>2024</td>\n",
       "    </tr>\n",
       "  </tbody>\n",
       "</table>\n",
       "<p>2704 rows × 3 columns</p>\n",
       "</div>"
      ],
      "text/plain": [
       "                             d  result  year\n",
       "0    2013-04-12 00:00:00+08:00       1  2013\n",
       "1    2013-04-15 00:00:00+08:00       1  2013\n",
       "2    2013-04-16 00:00:00+08:00       1  2013\n",
       "3    2013-04-17 00:00:00+08:00       1  2013\n",
       "4    2013-04-18 00:00:00+08:00       1  2013\n",
       "...                        ...     ...   ...\n",
       "2699 2024-01-31 00:00:00+08:00      -1  2024\n",
       "2700 2024-01-31 00:00:00+08:00      -1  2024\n",
       "2701 2024-01-31 00:00:00+08:00      -1  2024\n",
       "2702 2024-01-31 00:00:00+08:00      -1  2024\n",
       "2703 2024-01-31 00:00:00+08:00      -1  2024\n",
       "\n",
       "[2704 rows x 3 columns]"
      ]
     },
     "execution_count": 59,
     "metadata": {},
     "output_type": "execute_result"
    }
   ],
   "source": [
    "df_res"
   ]
  },
  {
   "cell_type": "code",
   "execution_count": 42,
   "metadata": {},
   "outputs": [],
   "source": [
    "import matplotlib.pyplot as plt\n",
    "# plt.scatter(df_res['year'], df_res['result'])"
   ]
  },
  {
   "cell_type": "code",
   "execution_count": 57,
   "metadata": {},
   "outputs": [
    {
     "data": {
      "text/plain": [
       "array([[<AxesSubplot:xlabel='d'>, <AxesSubplot:xlabel='d'>,\n",
       "        <AxesSubplot:xlabel='d'>, <AxesSubplot:xlabel='d'>],\n",
       "       [<AxesSubplot:xlabel='d'>, <AxesSubplot:xlabel='d'>,\n",
       "        <AxesSubplot:xlabel='d'>, <AxesSubplot:xlabel='d'>],\n",
       "       [<AxesSubplot:xlabel='d'>, <AxesSubplot:xlabel='d'>,\n",
       "        <AxesSubplot:xlabel='d'>, <AxesSubplot:xlabel='d'>]], dtype=object)"
      ]
     },
     "execution_count": 57,
     "metadata": {},
     "output_type": "execute_result"
    },
    {
     "data": {
      "image/png": "[encoded data removed]",
      "text/plain": [
       "<Figure size 1440x720 with 12 Axes>"
      ]
     },
     "metadata": {
      "needs_background": "light"
     },
     "output_type": "display_data"
    }
   ],
   "source": [
    "# pd.pivot_table(df_res.reset_index(),\n",
    "#                index='d', columns='year', values='result'\n",
    "#               ).plot(subplots=True, layout=(3,4), figsize=(20, 10))"
   ]
  },
  {
   "cell_type": "code",
   "execution_count": 24,
   "metadata": {},
   "outputs": [
    {
     "name": "stdout",
     "output_type": "stream",
     "text": [
      "0.6642011834319527\n"
     ]
    }
   ],
   "source": [
    "# Estimation_window = 250\n",
    "# step_forward = 60\n",
    "# n=10000\n",
    "print(act/total)"
   ]
  },
  {
   "cell_type": "code",
   "execution_count": 68,
   "metadata": {},
   "outputs": [
    {
     "data": {
      "image/png": "[encoded data removed]",
      "text/plain": [
       "<Figure size 432x288 with 1 Axes>"
      ]
     },
     "metadata": {
      "needs_background": "light"
     },
     "output_type": "display_data"
    }
   ],
   "source": [
    "import seaborn as sns\n",
    "import matplotlib.pyplot as plt\n",
    "\n",
    "# Assuming your DataFrame is named df\n",
    "sns.countplot(x='year', hue='result', data=df_res)\n",
    "plt.title('Frequency Distribution of Results Grouped by Year')\n",
    "plt.show()\n"
   ]
  },
  {
   "cell_type": "code",
   "execution_count": 71,
   "metadata": {},
   "outputs": [
    {
     "data": {
      "image/png": "[encoded data removed]",
      "text/plain": [
       "<Figure size 432x288 with 1 Axes>"
      ]
     },
     "metadata": {
      "needs_background": "light"
     },
     "output_type": "display_data"
    }
   ],
   "source": [
    "sns.countplot(x='m', hue='result', data=df_res)\n",
    "plt.title('Frequency Distribution of Results Grouped by Year')\n",
    "plt.show()\n"
   ]
  },
  {
   "cell_type": "code",
   "execution_count": null,
   "metadata": {},
   "outputs": [],
   "source": []
  }
 ],
 "metadata": {
  "kernelspec": {
   "display_name": "sim_search",
   "language": "python",
   "name": "python3"
  },
  "language_info": {
   "codemirror_mode": {
    "name": "ipython",
    "version": 3
   },
   "file_extension": ".py",
   "mimetype": "text/x-python",
   "name": "python",
   "nbconvert_exporter": "python",
   "pygments_lexer": "ipython3",
   "version": "3.7.13"
  }
 },
 "nbformat": 4,
 "nbformat_minor": 2
}
