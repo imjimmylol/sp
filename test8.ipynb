{
 "cells": [
  {
   "cell_type": "code",
   "execution_count": 3,
   "metadata": {},
   "outputs": [
    {
     "name": "stderr",
     "output_type": "stream",
     "text": [
      "c:\\Users\\user\\Anaconda3\\envs\\sim_search\\lib\\site-packages\\ipykernel_launcher.py:39: RuntimeWarning: divide by zero encountered in log\n",
      "c:\\Users\\user\\Anaconda3\\envs\\sim_search\\lib\\site-packages\\scipy\\optimize\\optimize.py:761: RuntimeWarning: invalid value encountered in subtract\n",
      "  np.max(np.abs(fsim[0] - fsim[1:])) <= fatol):\n"
     ]
    },
    {
     "name": "stdout",
     "output_type": "stream",
     "text": [
      "Optimized Parameters: [ 0.1   0.01  0.1  -0.5   0.01]\n"
     ]
    },
    {
     "data": {
      "image/png": "[encoded data removed]",
      "text/plain": [
       "<Figure size 432x288 with 1 Axes>"
      ]
     },
     "metadata": {
      "needs_background": "light"
     },
     "output_type": "display_data"
    }
   ],
   "source": [
    "import numpy as np\n",
    "from scipy.optimize import minimize\n",
    "import matplotlib.pyplot as plt\n",
    "\n",
    "# Simulate Heston model paths\n",
    "def heston_model(params, n_steps, dt):\n",
    "    kappa, theta, sigma, rho, v0 = params\n",
    "    sqrt_dt = np.sqrt(dt)\n",
    "\n",
    "    # Initialize arrays to store simulated paths\n",
    "    asset_paths = np.zeros(n_steps)\n",
    "    volatility_paths = np.zeros(n_steps)\n",
    "\n",
    "    # Generate paths using Euler's method\n",
    "    for i in range(1, n_steps):\n",
    "        dW1 = np.random.normal(0, sqrt_dt)\n",
    "        dW2 = rho * dW1 + np.sqrt(1 - rho**2) * np.random.normal(0, sqrt_dt)\n",
    "\n",
    "        asset_paths[i] = asset_paths[i - 1] + kappa * (theta - asset_paths[i - 1]) * dt + np.sqrt(volatility_paths[i - 1]) * dW1\n",
    "        volatility_paths[i] = np.maximum(0, volatility_paths[i - 1] + sigma * np.sqrt(volatility_paths[i - 1]) * dW2)\n",
    "\n",
    "    return asset_paths, volatility_paths\n",
    "\n",
    "# Objective function for optimization (negative log-likelihood)\n",
    "def objective_function(params, returns, dt):\n",
    "    kappa, theta, sigma, rho, v0 = params\n",
    "    n_steps = len(returns)\n",
    "\n",
    "    # Simulate Heston model paths\n",
    "    asset_paths, volatility_paths = heston_model(params, n_steps, dt)\n",
    "\n",
    "    # Align lengths of returns and simulated data\n",
    "    returns = returns[:n_steps - 1]\n",
    "\n",
    "    # Add a small constant to avoid division by zero\n",
    "    epsilon = 1e-8\n",
    "\n",
    "    # Calculate log-likelihood\n",
    "    log_likelihood = -0.5 * np.sum(np.log(volatility_paths[1:]) + (returns - asset_paths[:-1])**2 / (volatility_paths[:-1] + epsilon))\n",
    "\n",
    "    return -log_likelihood\n",
    "\n",
    "# Example using historical stock returns\n",
    "# Replace this with your own data\n",
    "np.random.seed(42)\n",
    "n_steps = 252  # Number of trading days\n",
    "dt = 1 / 252.0  # Time step\n",
    "returns = np.random.normal(0, 0.01, n_steps)  # Replace with your own historical returns\n",
    "\n",
    "# Initial parameter guesses\n",
    "initial_params = [0.1, 0.01, 0.1, -0.5, 0.01]\n",
    "\n",
    "# Optimize the parameters\n",
    "result = minimize(objective_function, initial_params, args=(returns, dt), method='Nelder-Mead')\n",
    "\n",
    "# Extract optimized parameters\n",
    "optimal_params = result.x\n",
    "print(\"Optimized Parameters:\", optimal_params)\n",
    "\n",
    "# Simulate Heston model paths with optimized parameters\n",
    "simulated_asset_paths, simulated_volatility_paths = heston_model(optimal_params, n_steps, dt)\n",
    "\n",
    "# Plot results\n",
    "plt.plot(simulated_asset_paths, label='Simulated Asset Price')\n",
    "plt.plot(simulated_volatility_paths, label='Simulated Volatility')\n",
    "plt.legend()\n",
    "plt.show()\n"
   ]
  },
  {
   "cell_type": "code",
   "execution_count": null,
   "metadata": {},
   "outputs": [],
   "source": []
  }
 ],
 "metadata": {
  "kernelspec": {
   "display_name": "sim_search",
   "language": "python",
   "name": "python3"
  },
  "language_info": {
   "codemirror_mode": {
    "name": "ipython",
    "version": 3
   },
   "file_extension": ".py",
   "mimetype": "text/x-python",
   "name": "python",
   "nbconvert_exporter": "python",
   "pygments_lexer": "ipython3",
   "version": "3.7.13"
  }
 },
 "nbformat": 4,
 "nbformat_minor": 2
}
