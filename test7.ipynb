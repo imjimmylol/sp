{
 "cells": [
  {
   "cell_type": "code",
   "execution_count": 1,
   "metadata": {},
   "outputs": [],
   "source": [
    "import pandas as pd\n",
    "import numpy as np"
   ]
  },
  {
   "cell_type": "code",
   "execution_count": 33,
   "metadata": {},
   "outputs": [],
   "source": [
    "def Monte_GBM(S,v,mu,n,T, nstep=5):\n",
    "    dt = T/nstep\n",
    "    e = np.random.normal(loc=0.0, scale=1.0, size=(n,nstep))\n",
    "    S_T = S*np.exp((mu - v ** 2 / 2) * dt + v * np.sqrt(dt) * e).cumprod(axis=1)\n",
    "    return [np.mean(S_T[:,i]) for i in range(nstep)]"
   ]
  },
  {
   "cell_type": "code",
   "execution_count": 18,
   "metadata": {},
   "outputs": [],
   "source": [
    "S = 100\n",
    "K = 100\n",
    "v = 0.25\n",
    "mu = 0.05\n",
    "n = 10000\n",
    "T = 1\n",
    "\n",
    "sim_res = Monte_GBM(S, v, mu, n, 1)"
   ]
  },
  {
   "cell_type": "code",
   "execution_count": 3,
   "metadata": {},
   "outputs": [],
   "source": [
    "import yfinance as yf\n",
    "from tqdm import tqdm\n",
    "\n",
    "def fetch_stock_price(stock_symbol, start_date, end_date):\n",
    "    # 使用 yf.Ticker() 建立 Ticker 對象\n",
    "    stock = yf.Ticker(stock_symbol)\n",
    "\n",
    "    # 使用 history() 方法取得歷史價格資訊\n",
    "    stock_data = stock.history(start=start_date, end=end_date)\n",
    "\n",
    "    return stock_data\n",
    "\n",
    "stock_symbol = '2330.TW'\n",
    "\n",
    "# 起始日期和結束日期\n",
    "end_date = '2024-12-31'\n",
    "\n",
    "# 擷取股票價格資訊\n",
    "df = fetch_stock_price(stock_symbol=stock_symbol, start_date='2012-01-02',end_date=end_date)\n"
   ]
  },
  {
   "cell_type": "code",
   "execution_count": 19,
   "metadata": {},
   "outputs": [],
   "source": [
    "df['ret'] = df['Close'].pct_change()\n",
    "df = df.dropna()"
   ]
  },
  {
   "cell_type": "code",
   "execution_count": 34,
   "metadata": {},
   "outputs": [
    {
     "name": "stderr",
     "output_type": "stream",
     "text": [
      "100%|██████████| 2921/2921 [00:03<00:00, 885.36it/s]\n"
     ]
    }
   ],
   "source": [
    "Estimation_window = 30\n",
    "total = 0\n",
    "act = 0\n",
    "n_step = 1\n",
    "\n",
    "for i in tqdm(range(len(df)-Estimation_window+1)):\n",
    "# for i in range(5):\n",
    "    total+=1\n",
    "    df_estimation = df.iloc[i:i+Estimation_window]\n",
    "    drift = df_estimation['ret'].mean()\n",
    "    vol = df_estimation['ret'].std()\n",
    "\n",
    "    S_t = df_estimation['Close'][-1]\n",
    "\n",
    "    df_test = df.iloc[i:i+Estimation_window+1]\n",
    "    S_tp1 = df_test['Close'][-1]\n",
    "\n",
    "\n",
    "    # pred dir\n",
    "    pred = Monte_GBM(S = S_t, v=vol, mu=drift, n=10000, T=1, nstep=1)[0]\n",
    "    dir_num = pred - S_t\n",
    "    dir_dummy = 1 if dir_num > 0 else -1\n",
    "\n",
    "    # act dir\n",
    "    dir_num_act = S_tp1 - S_t\n",
    "    dir_dummy_act = 1 if dir_num_act > 0 else -1\n",
    "\n",
    "    if dir_dummy-dir_dummy_act==0:\n",
    "        act+=1\n",
    "    # print(f'pred : {pred}, dir : {dir_dummy}')\n",
    "    # print(f'actual : {S_tp1}, dir : {dir_dummy_act}')\n",
    "    # print('===================')\n",
    "    # print()"
   ]
  },
  {
   "cell_type": "code",
   "execution_count": 35,
   "metadata": {},
   "outputs": [
    {
     "data": {
      "text/plain": [
       "0.4929818555289284"
      ]
     },
     "execution_count": 35,
     "metadata": {},
     "output_type": "execute_result"
    }
   ],
   "source": [
    "act/total"
   ]
  },
  {
   "cell_type": "code",
   "execution_count": 56,
   "metadata": {},
   "outputs": [
    {
     "name": "stderr",
     "output_type": "stream",
     "text": [
      "100%|██████████| 2701/2701 [01:37<00:00, 27.64it/s]\n"
     ]
    }
   ],
   "source": [
    "Estimation_window = 250\n",
    "step_forward = 60\n",
    "\n",
    "total = 0\n",
    "act = 0\n",
    "\n",
    "\n",
    "for i in tqdm(range(len(df)-Estimation_window+1)):\n",
    "# for i in range(5):\n",
    "    total+=1\n",
    "    df_estimation = df.iloc[i:i+Estimation_window]\n",
    "    # drift = np.log(df_estimation['ret']).mean()\n",
    "    # vol = np.log(df_estimation['ret']).std()\n",
    "\n",
    "    drift = df_estimation['ret'].mean()\n",
    "    vol = df_estimation['ret'].std()\n",
    "    S_t = df_estimation['Close'][-1]\n",
    "\n",
    "    df_test = df.iloc[i:i+Estimation_window+step_forward]\n",
    "    S_tp1 = df_test['Close'][-step_forward:].mean()\n",
    "\n",
    "\n",
    "    # pred dir\n",
    "    pred = np.mean(Monte_GBM(S = S_t, v=vol, mu=drift, n=10000, T=1, nstep=step_forward))\n",
    "    dir_num = pred - S_t\n",
    "    dir_dummy = 1 if dir_num > 0 else -1\n",
    "\n",
    "    # act dir\n",
    "    dir_num_act = S_tp1 - S_t\n",
    "    dir_dummy_act = 1 if dir_num_act > 0 else -1\n",
    "\n",
    "    if dir_dummy-dir_dummy_act==0:\n",
    "        act+=1\n",
    "    # print(f'pred : {pred}, dir : {dir_dummy}')\n",
    "    # print(f'actual : {S_tp1}, dir : {dir_dummy_act}')\n",
    "    # print('===================')\n",
    "    # print()"
   ]
  },
  {
   "cell_type": "code",
   "execution_count": 52,
   "metadata": {},
   "outputs": [
    {
     "name": "stdout",
     "output_type": "stream",
     "text": [
      "0.5990373935579415\n"
     ]
    }
   ],
   "source": [
    "# Estimation_window = 250\n",
    "# step_forward = 20\n",
    "# n=100000\n",
    "# print(act/total)"
   ]
  },
  {
   "cell_type": "code",
   "execution_count": 54,
   "metadata": {},
   "outputs": [
    {
     "name": "stdout",
     "output_type": "stream",
     "text": [
      "0.5994076268048871\n"
     ]
    }
   ],
   "source": [
    "# Estimation_window = 250\n",
    "# step_forward = 20\n",
    "# n=100000\n",
    "# print(act/total)"
   ]
  },
  {
   "cell_type": "code",
   "execution_count": 57,
   "metadata": {},
   "outputs": [
    {
     "name": "stdout",
     "output_type": "stream",
     "text": [
      "0.6638282117734172\n"
     ]
    }
   ],
   "source": [
    "# Estimation_window = 250\n",
    "# step_forward = 60\n",
    "# n=10000\n",
    "print(act/total)"
   ]
  },
  {
   "cell_type": "code",
   "execution_count": null,
   "metadata": {},
   "outputs": [],
   "source": []
  },
  {
   "cell_type": "code",
   "execution_count": null,
   "metadata": {},
   "outputs": [],
   "source": []
  }
 ],
 "metadata": {
  "kernelspec": {
   "display_name": "sim_search",
   "language": "python",
   "name": "python3"
  },
  "language_info": {
   "codemirror_mode": {
    "name": "ipython",
    "version": 3
   },
   "file_extension": ".py",
   "mimetype": "text/x-python",
   "name": "python",
   "nbconvert_exporter": "python",
   "pygments_lexer": "ipython3",
   "version": "3.7.13"
  }
 },
 "nbformat": 4,
 "nbformat_minor": 2
}
